{
  "nbformat": 4,
  "nbformat_minor": 0,
  "metadata": {
    "colab": {
      "provenance": []
    },
    "kernelspec": {
      "name": "python3",
      "display_name": "Python 3"
    },
    "language_info": {
      "name": "python"
    }
  },
  "cells": [
    {
      "cell_type": "markdown",
      "source": [
        "#THOERITICAL QUESTIONS\n",
        "\n",
        "1. What is Object-Oriented Programming (OOP)?\n",
        "- OOPS is a way of programming in python which includes creating a class and objects of the class , also known as instances.\n"
      ],
      "metadata": {
        "id": "ayd-D8KkIP8b"
      }
    },
    {
      "cell_type": "markdown",
      "source": [
        "2. What is a class in OOP+\n",
        "- A class in OOPS is basically a group of objects which belong to that class. It has some class variables and attributes which can be accessed by creating the class objects.\n",
        "\n",
        "3. What is an object in OOP?\n",
        "- It is an instance of the class which encapsulates both the class attributes and methods.\n",
        "\n",
        "4. What is the difference between abstraction and encapsulation?\n",
        "- _Abstraction_ is a way of only displaying the necessary details to the user and hiding the unnecessary details.\n",
        "\n",
        "For example, when we execute a code , we only see the output and not the way python functions in the backend.\n",
        "\n",
        "- _Encapsulation_ enables a user to privatise any attribute or method in a class.\n",
        "\n",
        "For example, The Car class keeps internal details (e.g., engine type, fuel system) private and only allows controlled access through methods.\n",
        "\n"
      ],
      "metadata": {
        "id": "oNICM2SXNIsI"
      }
    },
    {
      "cell_type": "markdown",
      "source": [
        "5. What are dunder methods in Python?\n",
        "- Dunder methods (short for \"double underscore methods\") are special methods in Python that start and end with double underscores (__method__). They are also known as magic methods because they allow customization of built-in operations like initialization, string representation, arithmetic operations, and more.\n"
      ],
      "metadata": {
        "id": "VGYsy643NJPd"
      }
    },
    {
      "cell_type": "markdown",
      "source": [
        "6. Explain the concept of inheritance in OOP.\n",
        "- Inheritance is a fundamental OOPS concept where a class (child class) derives properties and behaviors from another class (parent class). This allows code reuse and hierarchical relationships.\n",
        "\n",
        "\n",
        "7. What is polymorphism in OOP?\n",
        "- Polymorphism allows objects of different classes to be treated as instances of the same class through a common interface.\n",
        "8. How is encapsulation achieved in Python?\n",
        "- Encapsulation is achieved by restricting access to certain data using access modifiers:\n",
        "\n",
        "      _protected: Can be accessed within the class and subclasses.\n",
        "      __private: Only accessible within the class.\n",
        "9. What is a constructor in Python?\n",
        "- A constructor is a special method (__init__) that initializes an object’s attributes when an instance is created.\n",
        "10. What are class and static methods in Python?\n",
        "- Class methods (@classmethod): Operate on the class itself, not instances.\n",
        "- Static methods (@staticmethod): Independent of class or instance attributes.\n",
        "11. What is method overloading in Python?\n",
        "- Python does not support traditional method overloading. However, we can achieve similar behavior using default arguments.\n",
        "\n",
        "class Math:\n",
        "\n",
        "    def add(self, a, b, c=0):\n",
        "        return a + b + c\n",
        "\n",
        "math = Math()\n",
        "\n",
        "print(math.add(2, 3))    # Output: 5\n",
        "\n",
        "print(math.add(2, 3, 4)) # Output: 9\n",
        "\n",
        "\n",
        "12. What is method overriding in OOP?\n",
        "- Method overriding occurs when a subclass provides a different implementation of a method inherited from a parent class.\n",
        "\n",
        "class Parent:\n",
        "\n",
        "    def show(self):\n",
        "        return \"Parent Method\"\n",
        "\n",
        "class Child(Parent):\n",
        "\n",
        "    def show(self):\n",
        "        return \"Child Method\"\n",
        "\n",
        "child = Child()\n",
        "\n",
        "print(child.show())  # Output: Child Method\n",
        "\n",
        "\n",
        "13. What is a property decorator in Python?\n",
        "- The @property decorator allows defining getter methods, making attributes read-only.\n",
        "\n",
        "class Student:\n",
        "\n",
        "    def __init__(self, name):\n",
        "        self._name = name\n",
        "\n",
        "    @property\n",
        "    def name(self):\n",
        "        return self._name\n",
        "\n",
        "s = Student(\"Bob\")\n",
        "\n",
        "print(s.name)  # Output: Bob\n",
        "\n",
        "s.name = \"Alice\"  # Error, as it's read-only\n",
        "\n",
        "14. Why is polymorphism important in OOP?\n",
        "- Polymorphism increases flexibility and extensibility by allowing different objects to be treated uniformly.\n",
        "\n",
        "\n",
        "15. What is an abstract class in Python?\n",
        "- An abstract class contains abstract methods (without implementation). It is defined using the ABC module.\n",
        "\n",
        "from abc import ABC, abstractmethod\n",
        "\n",
        "class Animal(ABC):\n",
        "\n",
        "    @abstractmethod\n",
        "    def sound(self):\n",
        "        pass\n",
        "\n",
        "16. What are the advantages of OOP?\n",
        "- Encapsulation (data hiding)\n",
        "- Code reuse through inheritance\n",
        "- Polymorphism (flexibility)\n",
        "- Scalability and modularity\n",
        "\n",
        "17. What is the difference between a class variable and an instance variable?\n",
        "- Class variables are shared among all instances.\n",
        "- Instance variables are unique to each instance.\n",
        "18. What is multiple inheritance in Python?\n",
        "- A class can inherit from multiple parent classes.\n",
        "19. Explain the purpose of ‘’__str__’ and ‘__repr__’ ‘ methods in Python?\n",
        "- __str__(): User-friendly string representation.\n",
        "__repr__(): Debugging representation.\n",
        "20. What is the significance of the ‘super()’ function in Python?\n",
        "- super() allows calling a parent class method in a subclass.\n",
        "\n",
        "\n",
        "21. What is the significance of the __del__ method in Python?\n",
        "- __del__() is called when an object is deleted or goes out of scope.\n",
        "\n",
        "\n",
        "22. What is the difference between @staticmethod and @classmethod in Python?\n",
        "- @staticmethod: Independent of class and instance.\n",
        "- @classmethod: Works with class attribute\n",
        "23. How does polymorphism work in Python with inheritance?\n",
        "- Polymorphism allows a child class to override a parent method.\n",
        "\n",
        "class Bird:\n",
        "\n",
        "    def sound(self):\n",
        "        return \"Generic Bird Sound\"\n",
        "\n",
        "class Sparrow(Bird):\n",
        "\n",
        "    def sound(self):\n",
        "        return \"Chirp\"\n",
        "\n",
        "print(Bird().sound())  # Output: Generic Bird Sound\n",
        "\n",
        "print(Sparrow().sound())  # Output: Chirp\n",
        "\n",
        "24. What is method chaining in Python OOP?\n",
        "- Method chaining allows calling multiple methods sequentially.\n",
        "\n",
        "class Example:\n",
        "\n",
        "    def step1(self):\n",
        "        print(\"Step 1\")\n",
        "        return self\n",
        "\n",
        "    def step2(self):\n",
        "        print(\"Step 2\")\n",
        "        return self\n",
        "\n",
        "e = Example()\n",
        "\n",
        "e.step1().step2()\n",
        "\n",
        "25. What is the purpose of the __call__ method in Python?\n",
        "- The __call__ method makes an object callable like a function.\n",
        "\n",
        "class Example:\n",
        "\n",
        "    def __call__(self, x):\n",
        "        return x * 2\n",
        "\n",
        "obj = Example()\n",
        "\n",
        "print(obj(5))  # Output: 10\n"
      ],
      "metadata": {
        "id": "Kny-4Ei-TTMl"
      }
    },
    {
      "cell_type": "markdown",
      "source": [
        "#PRACTICAL QUESTIONS"
      ],
      "metadata": {
        "id": "K71Jk7SDSBSQ"
      }
    },
    {
      "cell_type": "markdown",
      "source": [
        "Q1. Create a parent class Animal with a method speak() that prints a generic message. Create a child class Dog\n",
        "that overrides the speak() method to print \"Bark!\"."
      ],
      "metadata": {
        "id": "oF00seuDSHGC"
      }
    },
    {
      "cell_type": "code",
      "execution_count": 1,
      "metadata": {
        "id": "GMwwx-8zR6di"
      },
      "outputs": [],
      "source": [
        "class Animal:\n",
        "  def speak(self):\n",
        "    print(\"Animal speaks\")\n",
        "\n",
        "class Dog:\n",
        "  def speak(self):\n",
        "    print(\"Bark!\")"
      ]
    },
    {
      "cell_type": "code",
      "source": [
        "poodle = Dog()\n",
        "poodle.speak()     #method overriding"
      ],
      "metadata": {
        "colab": {
          "base_uri": "https://localhost:8080/"
        },
        "id": "CskkFvBgSkA8",
        "outputId": "36eed0e9-930b-46b4-8a99-726980dd77cd"
      },
      "execution_count": 2,
      "outputs": [
        {
          "output_type": "stream",
          "name": "stdout",
          "text": [
            "Bark!\n"
          ]
        }
      ]
    },
    {
      "cell_type": "markdown",
      "source": [
        "Q2.  Write a program to create an abstract class Shape with a method area(). Derive classes Circle and Rectangle\n",
        "from it and implement the area() method in both."
      ],
      "metadata": {
        "id": "DVpItNZYS8XZ"
      }
    },
    {
      "cell_type": "code",
      "source": [
        "import abc\n",
        "class Shape:\n",
        "  @abc.abstractmethod\n",
        "  def area(self):\n",
        "    pass\n",
        "\n",
        "class Circle(Shape):\n",
        "  def area(self):\n",
        "    return \"Area of circle is pi * r^2\"\n",
        "\n",
        "class Rectangle(Shape):\n",
        "  def area(self):\n",
        "    return \"Area of rectangle is l * b\""
      ],
      "metadata": {
        "id": "TMlZhpb1S0R_"
      },
      "execution_count": 3,
      "outputs": []
    },
    {
      "cell_type": "code",
      "source": [
        "cir1 = Circle()\n",
        "cir1.area()"
      ],
      "metadata": {
        "id": "-yZFDhvnTC4z",
        "colab": {
          "base_uri": "https://localhost:8080/",
          "height": 36
        },
        "outputId": "2eec02f2-e61d-47db-92db-6688a5a0d4c3"
      },
      "execution_count": 4,
      "outputs": [
        {
          "output_type": "execute_result",
          "data": {
            "text/plain": [
              "'Area of circle is pi * r^2'"
            ],
            "application/vnd.google.colaboratory.intrinsic+json": {
              "type": "string"
            }
          },
          "metadata": {},
          "execution_count": 4
        }
      ]
    },
    {
      "cell_type": "code",
      "source": [
        "rect1 = Rectangle()\n",
        "rect1.area()"
      ],
      "metadata": {
        "id": "vqt6Og27T5NH",
        "colab": {
          "base_uri": "https://localhost:8080/",
          "height": 36
        },
        "outputId": "394549a9-04bc-4383-fd77-71dee9e079e1"
      },
      "execution_count": 5,
      "outputs": [
        {
          "output_type": "execute_result",
          "data": {
            "text/plain": [
              "'Area of rectangle is l * b'"
            ],
            "application/vnd.google.colaboratory.intrinsic+json": {
              "type": "string"
            }
          },
          "metadata": {},
          "execution_count": 5
        }
      ]
    },
    {
      "cell_type": "markdown",
      "source": [
        "Q3.  Implement a multi-level inheritance scenario where a class Vehicle has an attribute type. Derive a class Car\n",
        "and further derive a class ElectricCar that adds a battery attribute."
      ],
      "metadata": {
        "id": "Cx6A-IoZUuUg"
      }
    },
    {
      "cell_type": "code",
      "source": [
        "# Base class\n",
        "class Vehicle:\n",
        "    def __init__(self, type):\n",
        "        self.type = type\n",
        "\n",
        "    def display_info(self):\n",
        "        print(f\"Vehicle Type: {self.type}\")\n",
        "\n",
        "# Derived class\n",
        "class Car(Vehicle):\n",
        "    def __init__(self, type, brand):\n",
        "        super().__init__(type)\n",
        "        self.brand = brand\n",
        "\n",
        "    def display_info(self):\n",
        "        super().display_info()\n",
        "        print(f\"Car Brand: {self.brand}\")\n",
        "\n",
        "\n",
        "class ElectricCar(Car):\n",
        "    def __init__(self, type, brand, battery):\n",
        "        super().__init__(type, brand)\n",
        "        self.battery = battery\n",
        "\n",
        "    def display_info(self):\n",
        "        super().display_info()\n",
        "        print(f\"Battery Capacity: {self.battery} kWh\")\n",
        "\n",
        "\n",
        "ev = ElectricCar(\"Electric\", \"Tesla\", 75)\n",
        "ev.display_info()\n"
      ],
      "metadata": {
        "id": "JIZONNLJV1Vf",
        "colab": {
          "base_uri": "https://localhost:8080/"
        },
        "outputId": "f28ac6f5-8cef-4a8d-edad-2d3f7417d30a"
      },
      "execution_count": 6,
      "outputs": [
        {
          "output_type": "stream",
          "name": "stdout",
          "text": [
            "Vehicle Type: Electric\n",
            "Car Brand: Tesla\n",
            "Battery Capacity: 75 kWh\n"
          ]
        }
      ]
    },
    {
      "cell_type": "markdown",
      "source": [
        "Q4. Demonstrate polymorphism by creating a base class Bird with a method fly(). Create two derived classes\n",
        "Sparrow and Penguin that override the fly() method.\n"
      ],
      "metadata": {
        "id": "ibgBV3Q2edtb"
      }
    },
    {
      "cell_type": "code",
      "source": [
        "class Bird:                   #base class\n",
        "  def fly(self):\n",
        "    return \"Birds can fly!\"\n",
        "\n",
        "\n",
        "class Sparrow(Bird):\n",
        "  def fly(self):\n",
        "    return \"sparrows can fly.\"\n",
        "\n",
        "\n",
        "class Penguin(Bird):\n",
        "  def fly(self):\n",
        "    return \"penguins can't fly.\"\n",
        "\n",
        "\n",
        "#creating an instance\n",
        "sp = Sparrow()           #it overrode the parent class Bird's fly method.\n",
        "print(sp.fly())\n"
      ],
      "metadata": {
        "colab": {
          "base_uri": "https://localhost:8080/"
        },
        "id": "ZnUD7KXpdhKr",
        "outputId": "1b0874b1-f0dd-4175-b587-237a17d93689"
      },
      "execution_count": 7,
      "outputs": [
        {
          "output_type": "stream",
          "name": "stdout",
          "text": [
            "sparrows can fly.\n"
          ]
        }
      ]
    },
    {
      "cell_type": "code",
      "source": [
        "pen =  Penguin()\n",
        "print(pen.fly())"
      ],
      "metadata": {
        "colab": {
          "base_uri": "https://localhost:8080/"
        },
        "id": "JhW9HCghfRO3",
        "outputId": "b97f628b-cd38-4dba-f55e-0f16a3fbb8b7"
      },
      "execution_count": 8,
      "outputs": [
        {
          "output_type": "stream",
          "name": "stdout",
          "text": [
            "penguins can't fly.\n"
          ]
        }
      ]
    },
    {
      "cell_type": "markdown",
      "source": [
        "Q5. Write a program to demonstrate encapsulation by creating a class BankAccount with private attributes\n",
        "balance and methods to deposit, withdraw, and check balance"
      ],
      "metadata": {
        "id": "CP4ILsk7gi_6"
      }
    },
    {
      "cell_type": "code",
      "source": [
        "class BankAccount:\n",
        "  def __init__(self,balance):\n",
        "    self.__balance = balance   #private attribute.\n",
        "\n",
        "  def deposit(self, amount):\n",
        "    self.__balance = self.__balance + amount\n",
        "    return self.__balance\n",
        "\n",
        "  def withdraw(self, amount):\n",
        "    if amount > self.__balance:\n",
        "      return \"Insufficient balance\"\n",
        "    else:\n",
        "        self.balance = self.__balance - amount\n",
        "        return self.__balance\n",
        "\n",
        "  def check_balance(self):\n",
        "    return self.__balance"
      ],
      "metadata": {
        "id": "dnHjgkZ9fGVH"
      },
      "execution_count": 9,
      "outputs": []
    },
    {
      "cell_type": "code",
      "source": [
        "account = BankAccount(1000)\n",
        "account.deposit(500)\n"
      ],
      "metadata": {
        "colab": {
          "base_uri": "https://localhost:8080/"
        },
        "id": "gsVlyH2Fhuxw",
        "outputId": "799b9481-1765-41df-eaf1-4b3c18f6e262"
      },
      "execution_count": 10,
      "outputs": [
        {
          "output_type": "execute_result",
          "data": {
            "text/plain": [
              "1500"
            ]
          },
          "metadata": {},
          "execution_count": 10
        }
      ]
    },
    {
      "cell_type": "code",
      "source": [
        "account.__balance #since it is a private attribute now"
      ],
      "metadata": {
        "colab": {
          "base_uri": "https://localhost:8080/",
          "height": 148
        },
        "id": "he0VCGVniFka",
        "outputId": "fa16c718-76eb-4cd8-c3f6-119ba6f25fac"
      },
      "execution_count": 11,
      "outputs": [
        {
          "output_type": "error",
          "ename": "AttributeError",
          "evalue": "'BankAccount' object has no attribute '__balance'",
          "traceback": [
            "\u001b[0;31m---------------------------------------------------------------------------\u001b[0m",
            "\u001b[0;31mAttributeError\u001b[0m                            Traceback (most recent call last)",
            "\u001b[0;32m<ipython-input-11-9bae03732462>\u001b[0m in \u001b[0;36m<cell line: 0>\u001b[0;34m()\u001b[0m\n\u001b[0;32m----> 1\u001b[0;31m \u001b[0maccount\u001b[0m\u001b[0;34m.\u001b[0m\u001b[0m__balance\u001b[0m \u001b[0;31m#since it is a private attribute now\u001b[0m\u001b[0;34m\u001b[0m\u001b[0;34m\u001b[0m\u001b[0m\n\u001b[0m",
            "\u001b[0;31mAttributeError\u001b[0m: 'BankAccount' object has no attribute '__balance'"
          ]
        }
      ]
    },
    {
      "cell_type": "markdown",
      "source": [
        "Q6.  Demonstrate runtime polymorphism using a method play() in a base class Instrument. Derive classes Guitar\n",
        "and Piano that implement their own version of play().\n",
        "\n",
        "\n"
      ],
      "metadata": {
        "id": "-8Kw-WlNikvg"
      }
    },
    {
      "cell_type": "code",
      "source": [
        "class Instrument:\n",
        "  def play(self):\n",
        "    return \"playing an instrument\"\n",
        "\n",
        "\n",
        "class Guitar(Instrument):\n",
        "  def play(self):\n",
        "    return \"Strumming a guitar\"\n",
        "\n",
        "class Piano(Instrument):\n",
        "  def play(self):\n",
        "    return \"Playing Piano\"\n",
        "\n",
        "#creating instances\n",
        "guitar = Guitar()\n",
        "piano = Piano()\n",
        "print(guitar.play())  #implementing their own versions of play()\n",
        "print(piano.play())"
      ],
      "metadata": {
        "colab": {
          "base_uri": "https://localhost:8080/"
        },
        "id": "ndnX9IBOiLxQ",
        "outputId": "bfd6f08f-550e-4bd6-ddc3-6570b86a1667"
      },
      "execution_count": 12,
      "outputs": [
        {
          "output_type": "stream",
          "name": "stdout",
          "text": [
            "Strumming a guitar\n",
            "Playing Piano\n"
          ]
        }
      ]
    },
    {
      "cell_type": "markdown",
      "source": [
        "Q7. Create a class MathOperations with a class method add_numbers() to add two numbers and a static\n",
        "method subtract_numbers() to subtract two numbers."
      ],
      "metadata": {
        "id": "4UqeLH85kTMX"
      }
    },
    {
      "cell_type": "code",
      "source": [
        "class MathOperations:\n",
        "  @classmethod\n",
        "  def add_numbers(cls,x,y):\n",
        "    return x + y\n",
        "\n",
        "  @staticmethod\n",
        "  def subtract_numbers(x,y):\n",
        "    return x - y\n",
        "\n",
        "#class method > takes class as an object first in the parameter cls\n",
        "print(MathOperations.add_numbers(8,9))\n",
        "mop = MathOperations()\n",
        "print(mop.add_numbers(5,6))\n",
        "#static method > we don't need to create  instances to perform the methods\n",
        "print(MathOperations.subtract_numbers(17,9))"
      ],
      "metadata": {
        "colab": {
          "base_uri": "https://localhost:8080/"
        },
        "id": "_PD5hNrDkE6R",
        "outputId": "f9f5823d-a167-4460-c61b-540e9269aad6"
      },
      "execution_count": 13,
      "outputs": [
        {
          "output_type": "stream",
          "name": "stdout",
          "text": [
            "17\n",
            "11\n",
            "8\n"
          ]
        }
      ]
    },
    {
      "cell_type": "markdown",
      "source": [
        "Q8. Implement a class Person with a class method to count the total number of persons created."
      ],
      "metadata": {
        "id": "xVFCgeJImLgX"
      }
    },
    {
      "cell_type": "code",
      "source": [
        "class Person:\n",
        "    count = 0  # Class variable to track the number of persons\n",
        "\n",
        "    def __init__(self, name):\n",
        "        self.name = name\n",
        "        Person.count += 1  # Increment count on each instance creation\n",
        "\n",
        "    @classmethod\n",
        "    def total_persons(cls):\n",
        "        return f\"Total persons created: {cls.count}\"\n",
        "\n",
        "# Example usage:\n",
        "p1 = Person(\"Alice\")\n",
        "p2 = Person(\"Bob\")\n",
        "print(Person.total_persons())\n"
      ],
      "metadata": {
        "id": "KsymsXEcmFvA",
        "colab": {
          "base_uri": "https://localhost:8080/"
        },
        "outputId": "bc4e903f-e550-4e4f-905c-a1925ff1c4c7"
      },
      "execution_count": 14,
      "outputs": [
        {
          "output_type": "stream",
          "name": "stdout",
          "text": [
            "Total persons created: 2\n"
          ]
        }
      ]
    },
    {
      "cell_type": "code",
      "source": [
        "#9. Write a class Fraction with attributes numerator and denominator. Override the str method to display the\n",
        "#fraction as \"numerator/denominator\".\n",
        "\n",
        "class Fraction:\n",
        "    def __init__(self, numerator, denominator):\n",
        "        self.numerator = numerator\n",
        "        self.denominator = denominator\n",
        "\n",
        "    def __str__(self):\n",
        "        return f\"{self.numerator}/{self.denominator}\"\n",
        "\n",
        "# Example usage:\n",
        "f = Fraction(3, 4)\n",
        "print(f)\n"
      ],
      "metadata": {
        "id": "03e3EfIyoGIn",
        "colab": {
          "base_uri": "https://localhost:8080/"
        },
        "outputId": "fbf1309c-492d-4286-cd61-c7d5241e34d9"
      },
      "execution_count": 16,
      "outputs": [
        {
          "output_type": "stream",
          "name": "stdout",
          "text": [
            "3/4\n"
          ]
        }
      ]
    },
    {
      "cell_type": "code",
      "source": [
        "#10.Demonstrate operator overloading by creating a class Vector and overriding the add method to add two\n",
        "#vectors.\n",
        "\n",
        "class Vector:\n",
        "    def __init__(self, x, y):\n",
        "        self.x = x\n",
        "        self.y = y\n",
        "\n",
        "    def __add__(self, other):\n",
        "        return Vector(self.x + other.x, self.y + other.y)\n",
        "\n",
        "    def __str__(self):\n",
        "        return f\"({self.x}, {self.y})\"\n",
        "\n",
        "# Example usage:\n",
        "v1 = Vector(2, 3)\n",
        "v2 = Vector(4, 5)\n",
        "print(v1 + v2)\n"
      ],
      "metadata": {
        "id": "XIaC6BIsoGE_",
        "colab": {
          "base_uri": "https://localhost:8080/"
        },
        "outputId": "0912726d-6528-4712-8e9b-8dc84ffdc6d2"
      },
      "execution_count": 18,
      "outputs": [
        {
          "output_type": "stream",
          "name": "stdout",
          "text": [
            "(6, 8)\n"
          ]
        }
      ]
    },
    {
      "cell_type": "code",
      "source": [
        "#11. . Create a class Person with attributes name and age. Add a method greet() that prints \"Hello, my name is\n",
        "#{name} and I am {age} years old.\"\n",
        "\n",
        "class Person:\n",
        "    def __init__(self, name, age):\n",
        "        self.name = name\n",
        "        self.age = age\n",
        "\n",
        "    def greet(self):\n",
        "        print(f\"Hello, my name is {self.name} and I am {self.age} years old.\")\n",
        "\n",
        "# Example usage:\n",
        "p = Person(\"Alice\", 25)\n",
        "p.greet()  # Output: Hello, my name is Alice and I am 25 years old.\n"
      ],
      "metadata": {
        "id": "Vj1NvChNoGCO",
        "colab": {
          "base_uri": "https://localhost:8080/"
        },
        "outputId": "6eaedf63-0436-401e-ba19-934bb51957ea"
      },
      "execution_count": 19,
      "outputs": [
        {
          "output_type": "stream",
          "name": "stdout",
          "text": [
            "Hello, my name is Alice and I am 25 years old.\n"
          ]
        }
      ]
    },
    {
      "cell_type": "code",
      "source": [
        "#12.. Implement a class Student with attributes name and grades. Create a method average_grade() to compute\n",
        "#the average of the grades.\n",
        "\n",
        "class Student:\n",
        "    def __init__(self, name, grades):\n",
        "        self.name = name\n",
        "        self.grades = grades\n",
        "\n",
        "    def average_grade(self):\n",
        "        return sum(self.grades) / len(self.grades) if self.grades else 0\n",
        "\n",
        "# Example usage:\n",
        "s = Student(\"John\", [85, 90, 78])\n",
        "print(s.average_grade())\n"
      ],
      "metadata": {
        "id": "9acRT4EqoF-Z",
        "colab": {
          "base_uri": "https://localhost:8080/"
        },
        "outputId": "f2f2077a-4b82-4a45-8f5b-2d7d1040b597"
      },
      "execution_count": 21,
      "outputs": [
        {
          "output_type": "stream",
          "name": "stdout",
          "text": [
            "84.33333333333333\n"
          ]
        }
      ]
    },
    {
      "cell_type": "code",
      "source": [
        "#13. Create a class Rectangle with methods set_dimensions() to set the dimensions and area() to calculate the\n",
        "#area.\n",
        "\n",
        "class Rectangle:\n",
        "    def __init__(self):\n",
        "        self.length = 0\n",
        "        self.width = 0\n",
        "\n",
        "    def set_dimensions(self, length, width):\n",
        "        self.length = length\n",
        "        self.width = width\n",
        "\n",
        "    def area(self):\n",
        "        return self.length * self.width\n",
        "\n",
        "# Example usage:\n",
        "r = Rectangle()\n",
        "r.set_dimensions(5, 10)\n",
        "print(r.area())\n"
      ],
      "metadata": {
        "id": "M0-e7K89oF77",
        "colab": {
          "base_uri": "https://localhost:8080/"
        },
        "outputId": "01c178b5-9310-4255-e268-78f2c6f1db2c"
      },
      "execution_count": 23,
      "outputs": [
        {
          "output_type": "stream",
          "name": "stdout",
          "text": [
            "50\n"
          ]
        }
      ]
    },
    {
      "cell_type": "code",
      "source": [
        "#14.  Create a class Employee with a method calculate_salary() that computes the salary based on hours worked\n",
        "#nd hourly rate. Create a derived class Manager that adds a bonus to the salary\n",
        "\n",
        "class Employee:\n",
        "    def __init__(self, hours_worked, hourly_rate):\n",
        "        self.hours_worked = hours_worked\n",
        "        self.hourly_rate = hourly_rate\n",
        "\n",
        "    def calculate_salary(self):\n",
        "        return self.hours_worked * self.hourly_rate\n",
        "\n",
        "class Manager(Employee):\n",
        "    def __init__(self, hours_worked, hourly_rate, bonus):\n",
        "        super().__init__(hours_worked, hourly_rate)\n",
        "        self.bonus = bonus\n",
        "\n",
        "    def calculate_salary(self):\n",
        "        return super().calculate_salary() + self.bonus\n",
        "\n",
        "# Example usage:\n",
        "e = Employee(40, 20)\n",
        "print(e.calculate_salary())\n",
        "\n",
        "m = Manager(40, 30, 500)\n",
        "print(m.calculate_salary())\n"
      ],
      "metadata": {
        "id": "cUe63JyJoFxn",
        "colab": {
          "base_uri": "https://localhost:8080/"
        },
        "outputId": "2d08b577-0a59-42af-ec34-222dfb31a943"
      },
      "execution_count": 26,
      "outputs": [
        {
          "output_type": "stream",
          "name": "stdout",
          "text": [
            "800\n",
            "1700\n"
          ]
        }
      ]
    },
    {
      "cell_type": "code",
      "source": [
        "#15. Create a class Product with attributes name, price, and quantity. Implement a method total_price() that\n",
        "#calculates the total price of the product\n",
        "\n",
        "class Product:\n",
        "    def __init__(self, name, price, quantity):\n",
        "        self.name = name\n",
        "        self.price = price\n",
        "        self.quantity = quantity\n",
        "\n",
        "    def total_price(self):\n",
        "        return self.price * self.quantity\n",
        "\n",
        "# Example usage:\n",
        "p = Product(\"Laptop\", 1000, 2)\n",
        "print(p.total_price())\n"
      ],
      "metadata": {
        "id": "kgUEFq9zoFul",
        "colab": {
          "base_uri": "https://localhost:8080/"
        },
        "outputId": "fd127be4-6750-401c-e460-b6ee49fafa71"
      },
      "execution_count": 28,
      "outputs": [
        {
          "output_type": "stream",
          "name": "stdout",
          "text": [
            "2000\n"
          ]
        }
      ]
    },
    {
      "cell_type": "code",
      "source": [
        "#16. Create a class Animal with an abstract method sound(). Create two derived classes Cow and Sheep that\n",
        "#implement the sound() method.\n",
        "\n",
        "from abc import ABC, abstractmethod\n",
        "\n",
        "class Animal(ABC):\n",
        "    @abstractmethod\n",
        "    def sound(self):\n",
        "        pass\n",
        "\n",
        "class Cow(Animal):\n",
        "    def sound(self):\n",
        "        return \"Moo\"\n",
        "\n",
        "class Sheep(Animal):\n",
        "    def sound(self):\n",
        "        return \"Baa\"\n",
        "\n",
        "# Example usage:\n",
        "c = Cow()\n",
        "s = Sheep()\n",
        "print(c.sound())\n",
        "print(s.sound())\n"
      ],
      "metadata": {
        "id": "qiV2OrThoFqA",
        "colab": {
          "base_uri": "https://localhost:8080/"
        },
        "outputId": "8a2e5252-39ce-4ed3-ca97-bb5377c1ab5c"
      },
      "execution_count": 30,
      "outputs": [
        {
          "output_type": "stream",
          "name": "stdout",
          "text": [
            "Moo\n",
            "Baa\n"
          ]
        }
      ]
    },
    {
      "cell_type": "code",
      "source": [
        "#17,  Create a class Book with attributes title, author, and year_published. Add a method get_book_info() that\n",
        "#returns a formatted string with the book's deta\n",
        "\n",
        "class Book:\n",
        "    def __init__(self, title, author, year_published):\n",
        "        self.title = title\n",
        "        self.author = author\n",
        "        self.year_published = year_published\n",
        "\n",
        "    def get_book_info(self):\n",
        "        return f\"'{self.title}' by {self.author}, published in {self.year_published}.\"\n",
        "\n",
        "# Example usage:\n",
        "b = Book(\"1984\", \"George Orwell\", 1949)\n",
        "print(b.get_book_info())"
      ],
      "metadata": {
        "id": "BKW9HZH9oFm9",
        "colab": {
          "base_uri": "https://localhost:8080/"
        },
        "outputId": "a61cf82e-b11c-4f4e-d822-bf73d80cd726"
      },
      "execution_count": 32,
      "outputs": [
        {
          "output_type": "stream",
          "name": "stdout",
          "text": [
            "'1984' by George Orwell, published in 1949.\n"
          ]
        }
      ]
    },
    {
      "cell_type": "code",
      "source": [
        "#18. Create a class House with attributes address and price. Create a derived class Mansion that adds an\n",
        "#attribute number_of_rooms.\n",
        "\n",
        "class House:\n",
        "    def __init__(self, address, price):\n",
        "        self.address = address\n",
        "        self.price = price\n",
        "\n",
        "class Mansion(House):\n",
        "    def __init__(self, address, price, number_of_rooms):\n",
        "        super().__init__(address, price)\n",
        "        self.number_of_rooms = number_of_rooms\n",
        "\n",
        "# Example usage:\n",
        "m = Mansion(\"123 Luxury Lane\", 5000000, 15)\n",
        "print(m.address)\n",
        "print(m.price)\n",
        "print(m.number_of_rooms)\n"
      ],
      "metadata": {
        "id": "HfnQXVgzoFhW",
        "colab": {
          "base_uri": "https://localhost:8080/"
        },
        "outputId": "cc6f4f65-dbe3-4385-92ff-5125b06ca6a5"
      },
      "execution_count": 34,
      "outputs": [
        {
          "output_type": "stream",
          "name": "stdout",
          "text": [
            "123 Luxury Lane\n",
            "5000000\n",
            "15\n"
          ]
        }
      ]
    },
    {
      "cell_type": "code",
      "source": [],
      "metadata": {
        "id": "tdXJR3UtqbKv"
      },
      "execution_count": null,
      "outputs": []
    }
  ]
}